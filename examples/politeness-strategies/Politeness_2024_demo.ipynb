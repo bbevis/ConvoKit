{
 "cells": [
  {
   "cell_type": "markdown",
   "metadata": {},
   "source": [
    "# Updated Politeness package 2024\n",
    "\n",
    "In this notebook, we demo how to extract meta data and summarised feature counts of politeness strategies using ConvoKit's `PolitenessStrategies` module for the latest updated version.\n",
    "\n",
    "The updated version outputs two objects:\n",
    "1. A pandas Series of feature prevalence for all politeness features\n",
    "2. A dictionary of all politeness feature found in text where if found, list token, head, sentence number and word number within the sentence in the text"
   ]
  },
  {
   "cell_type": "code",
   "execution_count": null,
   "metadata": {},
   "outputs": [
    {
     "name": "stdout",
     "output_type": "stream",
     "text": [
      "/Users/bb320/Library/CloudStorage/GoogleDrive-burint@bnmanalytics.com/My Drive/Imperial/01_Projects/convoKit_update/ConvoKit/examples/politeness-strategies\n"
     ]
    }
   ],
   "source": [
    "import sys\n",
    "sys.path.append('/Users/bb320/Library/CloudStorage/GoogleDrive-burint@bnmanalytics.com/My Drive/Imperial/01_Projects/convoKit_update/ConvoKit')\n",
    "\n",
    "import os\n",
    "print(os.getcwd())"
   ]
  },
  {
   "cell_type": "code",
   "execution_count": null,
   "metadata": {},
   "outputs": [
    {
     "name": "stderr",
     "output_type": "stream",
     "text": [
      "Since the GPL-licensed package `unidecode` is not installed, using Python's `unicodedata` package which yields worse results.\n"
     ]
    }
   ],
   "source": [
    "from convokit import PolitenessStrategies"
   ]
  },
  {
   "cell_type": "code",
   "execution_count": 12,
   "metadata": {},
   "outputs": [],
   "source": [
    "Text = \"\"\"\n",
    "From a Mexican perspective, the U.S. decision to raise tariffs is both bewildering and infuriating.\n",
    "While some may argue that this policy reflects legitimate concerns about protecting American industries,\n",
    "it also feels like an unnecessary and arrogant disruption to a deeply interdependent economic relationship.\n",
    "Admittedly, every nation has a right to defend its interests, but this approach seems shortsighted, especially given the promises of cooperation under the USMCA.\n",
    "Frankly, it’s hard not to view this as a betrayal—a decision that disregards years of trust and mutual benefit for the sake of political posturing.\n",
    "It may be justified in theory, but in practice, it risks damaging countless livelihoods and creating unnecessary animosity between neighbors.\n",
    "\"\"\""
   ]
  },
  {
   "cell_type": "markdown",
   "metadata": {},
   "source": [
    "#### Computing politeness feature prevalance and extract meta data\n",
    "\n",
    "As a summary of politeness features used in a single document, use `feature_counts()`.\n",
    "To view more detailed information on each politeness feature, use `meta_strategies()` to \n",
    "    a) view which tokens, head, sentence number and word number in the sentence, and\n",
    "    b) view the feature counts in a dictionary format."
   ]
  },
  {
   "cell_type": "code",
   "execution_count": 13,
   "metadata": {},
   "outputs": [],
   "source": [
    "ps = PolitenessStrategies(strategy_collection=\"politeness_2024\") # Instatiate PolitenessStrategies\n",
    "\n",
    "features = ps.feature_counts(Text)\n",
    "meta = ps.meta_strategies(Text)"
   ]
  },
  {
   "cell_type": "code",
   "execution_count": 15,
   "metadata": {},
   "outputs": [
    {
     "data": {
      "text/plain": [
       "Agreement                0\n",
       "Apology                  0\n",
       "Third_Person             0\n",
       "Contrast_Conjunction     4\n",
       "Ask_Agency               0\n",
       "By_The_Way               0\n",
       "Can_You                  0\n",
       "Could_You                0\n",
       "Disagreement             0\n",
       "Filler_Pause             0\n",
       "First_Person_Plural      0\n",
       "First_Person_Single      0\n",
       "For_Me                   0\n",
       "For_You                  0\n",
       "Formal_Title             0\n",
       "Give_Agency              0\n",
       "Goodbye                  0\n",
       "Gratitude                0\n",
       "Hedges                   6\n",
       "Hello                    0\n",
       "Impersonal_Pronoun      30\n",
       "Informal_Title           0\n",
       "Let_Me_Know              0\n",
       "Negation                 1\n",
       "Negative_Emotion        16\n",
       "Please                   0\n",
       "Positive_Emotion         6\n",
       "Reasoning                0\n",
       "Reassurance              0\n",
       "Second_Person            0\n",
       "Swearing                 0\n",
       "Truth_Intensifier        0\n",
       "Acknowledgement          0\n",
       "Subjectivity             0\n",
       "Affirmation              0\n",
       "Conjunction_Start        0\n",
       "Bare_Command             0\n",
       "WH_Questions             0\n",
       "YesNo_Questions          0\n",
       "Adverb_Limiters          0\n",
       "dtype: int64"
      ]
     },
     "execution_count": 15,
     "metadata": {},
     "output_type": "execute_result"
    }
   ],
   "source": [
    "features"
   ]
  },
  {
   "cell_type": "code",
   "execution_count": 18,
   "metadata": {},
   "outputs": [
    {
     "data": {
      "text/plain": [
       "{'Agreement': [],\n",
       " 'Apology': [],\n",
       " 'Third_Person': [],\n",
       " 'Contrast_Conjunction': [['but', 'has', 5, 13], ['but', 'justified', 7, 8]],\n",
       " 'Ask_Agency': [],\n",
       " 'By_The_Way': [],\n",
       " 'Can_You': [],\n",
       " 'Could_You': [],\n",
       " 'Disagreement': [],\n",
       " 'Filler_Pause': [],\n",
       " 'First_Person_Plural': [],\n",
       " 'First_Person_Single': [],\n",
       " 'For_Me': [],\n",
       " 'For_You': [],\n",
       " 'Formal_Title': [],\n",
       " 'Give_Agency': [],\n",
       " 'Goodbye': [],\n",
       " 'Gratitude': [],\n",
       " 'Hedges': [['may', 'argue', 4, 3],\n",
       "  ['argue', 'feels', 4, 4],\n",
       "  ['seems', 'has', 5, 16],\n",
       "  ['may', 'justified', 7, 2]],\n",
       " 'Hello': [],\n",
       " 'Impersonal_Pronoun': [['that', 'reflects', 4, 5],\n",
       "  ['this', 'policy', 4, 6],\n",
       "  ['it', 'feels', 4, 17],\n",
       "  ['its', 'interests', 5, 10],\n",
       "  ['this', 'approach', 5, 14],\n",
       "  ['it', \"'s\", 6, 3],\n",
       "  ['this', 'view', 6, 9],\n",
       "  ['that', 'disregards', 6, 16],\n",
       "  ['it', 'justified', 7, 1],\n",
       "  ['it', 'risks', 7, 12]],\n",
       " 'Informal_Title': [],\n",
       " 'Let_Me_Know': [],\n",
       " 'Negation': [['not', 'view', 6, 6]],\n",
       " 'Negative_Emotion': [['bewildering', 'is', 3, 7],\n",
       "  ['infuriating', 'bewildering', 3, 9],\n",
       "  ['concerns', 'reflects', 4, 10],\n",
       "  ['unnecessary', 'disruption', 4, 22],\n",
       "  ['arrogant', 'unnecessary', 4, 24],\n",
       "  ['disruption', 'like', 4, 25],\n",
       "  ['shortsighted', 'seems', 5, 17],\n",
       "  ['hard', \"'s\", 6, 5],\n",
       "  ['betrayal', 'as', 6, 12],\n",
       "  ['posturing', 'of', 6, 29],\n",
       "  ['risks', 'justified', 7, 13],\n",
       "  ['damaging', 'risks', 7, 14],\n",
       "  ['unnecessary', 'animosity', 7, 19],\n",
       "  ['animosity', 'creating', 7, 20]],\n",
       " 'Please': [],\n",
       " 'Positive_Emotion': [['like', 'feels', 4, 20],\n",
       "  ['right', 'has', 5, 7],\n",
       "  ['interests', 'defend', 5, 11],\n",
       "  ['promises', 'given', 5, 22],\n",
       "  ['trust', 'of', 6, 20],\n",
       "  ['benefit', 'trust', 6, 23]],\n",
       " 'Reasoning': [],\n",
       " 'Reassurance': [],\n",
       " 'Second_Person': [],\n",
       " 'Swearing': [],\n",
       " 'Truth_Intensifier': [],\n",
       " 'Acknowledgement': [],\n",
       " 'Subjectivity': [],\n",
       " 'Affirmation': [],\n",
       " 'Conjunction_Start': [],\n",
       " 'Bare_Command': [],\n",
       " 'WH_Questions': [],\n",
       " 'YesNo_Questions': [],\n",
       " 'Adverb_Limiters': []}"
      ]
     },
     "execution_count": 18,
     "metadata": {},
     "output_type": "execute_result"
    }
   ],
   "source": [
    "meta['politeness_markers']"
   ]
  },
  {
   "cell_type": "code",
   "execution_count": 19,
   "metadata": {},
   "outputs": [
    {
     "data": {
      "text/plain": [
       "{'feature_politeness_==Agreement==': 0,\n",
       " 'feature_politeness_==Apology==': 0,\n",
       " 'feature_politeness_==Third_Person==': 0,\n",
       " 'feature_politeness_==Contrast_Conjunction==': 4,\n",
       " 'feature_politeness_==Ask_Agency==': 0,\n",
       " 'feature_politeness_==By_The_Way==': 0,\n",
       " 'feature_politeness_==Can_You==': 0,\n",
       " 'feature_politeness_==Could_You==': 0,\n",
       " 'feature_politeness_==Disagreement==': 0,\n",
       " 'feature_politeness_==Filler_Pause==': 0,\n",
       " 'feature_politeness_==First_Person_Plural==': 0,\n",
       " 'feature_politeness_==First_Person_Single==': 0,\n",
       " 'feature_politeness_==For_Me==': 0,\n",
       " 'feature_politeness_==For_You==': 0,\n",
       " 'feature_politeness_==Formal_Title==': 0,\n",
       " 'feature_politeness_==Give_Agency==': 0,\n",
       " 'feature_politeness_==Goodbye==': 0,\n",
       " 'feature_politeness_==Gratitude==': 0,\n",
       " 'feature_politeness_==Hedges==': 6,\n",
       " 'feature_politeness_==Hello==': 0,\n",
       " 'feature_politeness_==Impersonal_Pronoun==': 30,\n",
       " 'feature_politeness_==Informal_Title==': 0,\n",
       " 'feature_politeness_==Let_Me_Know==': 0,\n",
       " 'feature_politeness_==Negation==': 1,\n",
       " 'feature_politeness_==Negative_Emotion==': 16,\n",
       " 'feature_politeness_==Please==': 0,\n",
       " 'feature_politeness_==Positive_Emotion==': 6,\n",
       " 'feature_politeness_==Reasoning==': 0,\n",
       " 'feature_politeness_==Reassurance==': 0,\n",
       " 'feature_politeness_==Second_Person==': 0,\n",
       " 'feature_politeness_==Swearing==': 0,\n",
       " 'feature_politeness_==Truth_Intensifier==': 0,\n",
       " 'feature_politeness_==Acknowledgement==': 0,\n",
       " 'feature_politeness_==Subjectivity==': 0,\n",
       " 'feature_politeness_==Affirmation==': 0,\n",
       " 'feature_politeness_==Conjunction_Start==': 0,\n",
       " 'feature_politeness_==Bare_Command==': 0,\n",
       " 'feature_politeness_==WH_Questions==': 0,\n",
       " 'feature_politeness_==YesNo_Questions==': 0,\n",
       " 'feature_politeness_==Adverb_Limiters==': 0}"
      ]
     },
     "execution_count": 19,
     "metadata": {},
     "output_type": "execute_result"
    }
   ],
   "source": [
    "meta['politeness_strategies']"
   ]
  }
 ],
 "metadata": {
  "kernelspec": {
   "display_name": ".venv",
   "language": "python",
   "name": "python3"
  },
  "language_info": {
   "codemirror_mode": {
    "name": "ipython",
    "version": 3
   },
   "file_extension": ".py",
   "mimetype": "text/x-python",
   "name": "python",
   "nbconvert_exporter": "python",
   "pygments_lexer": "ipython3",
   "version": "3.12.3"
  }
 },
 "nbformat": 4,
 "nbformat_minor": 2
}
